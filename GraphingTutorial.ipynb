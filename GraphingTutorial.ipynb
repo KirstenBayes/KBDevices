{
 "cells": [
  {
   "cell_type": "code",
   "execution_count": 15,
   "metadata": {
    "collapsed": true
   },
   "outputs": [],
   "source": [
    "## numpy is a Python numerical and scientific library module. Standard alias is np\n",
    "## An alias means we don't need to type out the full name of the module each time we use it.\n",
    "import numpy as np\n"
   ]
  },
  {
   "cell_type": "code",
   "execution_count": 16,
   "metadata": {
    "collapsed": true
   },
   "outputs": [],
   "source": [
    "## pandas supports dataset manipulation and simple graphing in Python. Standard alias is pd.\n",
    "import pandas as pd"
   ]
  },
  {
   "cell_type": "code",
   "execution_count": 17,
   "metadata": {
    "collapsed": false
   },
   "outputs": [],
   "source": [
    "## Bokeh enables plots to be made from pandas objects and to be displayed on the web/in browsers.\n",
    "\n",
    "from bokeh.io import output_notebook\n",
    "from bokeh.charts import Scatter, show\n",
    "\n"
   ]
  },
  {
   "cell_type": "code",
   "execution_count": 18,
   "metadata": {
    "collapsed": false
   },
   "outputs": [],
   "source": [
    "## We're going to create an example dataset, of the kind that will be received from a device\n",
    "## We are creating a dict (dictionary): the program tells Python this is a dict by using curly brackets {}\n",
    "## Programmers may recognise the similarity with Javascript object notation (JSON), a common format.\n",
    "## This is a time series, so the first list is time in seconds, and the second list is temperature in Deg C\n",
    "## The item showing np.NAN is where the device didn't send data for that reading: very common!\n",
    "\n",
    "bitDict = {'secs': [5, 10, 15, 20, 25, 30, 35, 40], 'tempC':[28, 29, 31, 32, 32, np.NAN, 34, 35]}\n",
    "\n"
   ]
  },
  {
   "cell_type": "code",
   "execution_count": 19,
   "metadata": {
    "collapsed": false
   },
   "outputs": [
    {
     "data": {
      "text/plain": [
       "[5, 10, 15, 20, 25, 30, 35, 40]"
      ]
     },
     "execution_count": 19,
     "metadata": {},
     "output_type": "execute_result"
    }
   ],
   "source": [
    "## The dictionary stores data in a structured way, in what is called \"key pairs\": provide the key, get the data!\n",
    "bitDict['secs']"
   ]
  },
  {
   "cell_type": "code",
   "execution_count": 20,
   "metadata": {
    "collapsed": false
   },
   "outputs": [],
   "source": [
    "## To manipulate data we need to turn the dict into a pandas object.\n",
    "## pd is the alias we used for Pandas, and a Series is a particular pandas data object.\n",
    "\n",
    "bitFrame=pd.DataFrame(bitDict)\n"
   ]
  },
  {
   "cell_type": "code",
   "execution_count": 21,
   "metadata": {
    "collapsed": false
   },
   "outputs": [
    {
     "data": {
      "text/html": [
       "<div>\n",
       "<table border=\"1\" class=\"dataframe\">\n",
       "  <thead>\n",
       "    <tr style=\"text-align: right;\">\n",
       "      <th></th>\n",
       "      <th>secs</th>\n",
       "      <th>tempC</th>\n",
       "    </tr>\n",
       "  </thead>\n",
       "  <tbody>\n",
       "    <tr>\n",
       "      <th>0</th>\n",
       "      <td>5</td>\n",
       "      <td>28.0</td>\n",
       "    </tr>\n",
       "    <tr>\n",
       "      <th>1</th>\n",
       "      <td>10</td>\n",
       "      <td>29.0</td>\n",
       "    </tr>\n",
       "    <tr>\n",
       "      <th>2</th>\n",
       "      <td>15</td>\n",
       "      <td>31.0</td>\n",
       "    </tr>\n",
       "    <tr>\n",
       "      <th>3</th>\n",
       "      <td>20</td>\n",
       "      <td>32.0</td>\n",
       "    </tr>\n",
       "    <tr>\n",
       "      <th>4</th>\n",
       "      <td>25</td>\n",
       "      <td>32.0</td>\n",
       "    </tr>\n",
       "    <tr>\n",
       "      <th>5</th>\n",
       "      <td>30</td>\n",
       "      <td>NaN</td>\n",
       "    </tr>\n",
       "    <tr>\n",
       "      <th>6</th>\n",
       "      <td>35</td>\n",
       "      <td>34.0</td>\n",
       "    </tr>\n",
       "    <tr>\n",
       "      <th>7</th>\n",
       "      <td>40</td>\n",
       "      <td>35.0</td>\n",
       "    </tr>\n",
       "  </tbody>\n",
       "</table>\n",
       "</div>"
      ],
      "text/plain": [
       "   secs  tempC\n",
       "0     5   28.0\n",
       "1    10   29.0\n",
       "2    15   31.0\n",
       "3    20   32.0\n",
       "4    25   32.0\n",
       "5    30    NaN\n",
       "6    35   34.0\n",
       "7    40   35.0"
      ]
     },
     "execution_count": 21,
     "metadata": {},
     "output_type": "execute_result"
    }
   ],
   "source": [
    "## When passing a dictionary into pandas it takes the keys as the column names and assigns a default index\n",
    "bitFrame"
   ]
  },
  {
   "cell_type": "code",
   "execution_count": 22,
   "metadata": {
    "collapsed": false
   },
   "outputs": [],
   "source": [
    "## Using the Bokeh Scatter library which we imported earlier, we can create a basic Scatter chart with this DataFrame\n",
    "p = Scatter(bitFrame)"
   ]
  },
  {
   "cell_type": "code",
   "execution_count": 23,
   "metadata": {
    "collapsed": false
   },
   "outputs": [
    {
     "data": {
      "text/html": [
       "\n",
       "    <div class=\"bk-banner\">\n",
       "        <a href=\"http://bokeh.pydata.org\" target=\"_blank\" class=\"bk-logo bk-logo-small bk-logo-notebook\"></a>\n",
       "        <span id=\"f2af469e-6bff-4b96-a93b-01d1560783da\">Loading BokehJS ...</span>\n",
       "    </div>"
      ]
     },
     "metadata": {},
     "output_type": "display_data"
    },
    {
     "data": {
      "application/javascript": [
       "\n",
       "(function(global) {\n",
       "  function now() {\n",
       "    return new Date();\n",
       "  }\n",
       "\n",
       "  if (typeof (window._bokeh_onload_callbacks) === \"undefined\") {\n",
       "    window._bokeh_onload_callbacks = [];\n",
       "  }\n",
       "\n",
       "  function run_callbacks() {\n",
       "    window._bokeh_onload_callbacks.forEach(function(callback) { callback() });\n",
       "    delete window._bokeh_onload_callbacks\n",
       "    console.info(\"Bokeh: all callbacks have finished\");\n",
       "  }\n",
       "\n",
       "  function load_libs(js_urls, callback) {\n",
       "    window._bokeh_onload_callbacks.push(callback);\n",
       "    if (window._bokeh_is_loading > 0) {\n",
       "      console.log(\"Bokeh: BokehJS is being loaded, scheduling callback at\", now());\n",
       "      return null;\n",
       "    }\n",
       "    if (js_urls == null || js_urls.length === 0) {\n",
       "      run_callbacks();\n",
       "      return null;\n",
       "    }\n",
       "    console.log(\"Bokeh: BokehJS not loaded, scheduling load and callback at\", now());\n",
       "    window._bokeh_is_loading = js_urls.length;\n",
       "    for (var i = 0; i < js_urls.length; i++) {\n",
       "      var url = js_urls[i];\n",
       "      var s = document.createElement('script');\n",
       "      s.src = url;\n",
       "      s.async = false;\n",
       "      s.onreadystatechange = s.onload = function() {\n",
       "        window._bokeh_is_loading--;\n",
       "        if (window._bokeh_is_loading === 0) {\n",
       "          console.log(\"Bokeh: all BokehJS libraries loaded\");\n",
       "          run_callbacks()\n",
       "        }\n",
       "      };\n",
       "      s.onerror = function() {\n",
       "        console.warn(\"failed to load library \" + url);\n",
       "      };\n",
       "      console.log(\"Bokeh: injecting script tag for BokehJS library: \", url);\n",
       "      document.getElementsByTagName(\"head\")[0].appendChild(s);\n",
       "    }\n",
       "  };\n",
       "\n",
       "  var js_urls = ['https://cdn.pydata.org/bokeh/release/bokeh-0.11.1.min.js', 'https://cdn.pydata.org/bokeh/release/bokeh-widgets-0.11.1.min.js', 'https://cdn.pydata.org/bokeh/release/bokeh-compiler-0.11.1.min.js'];\n",
       "\n",
       "  var inline_js = [\n",
       "    function(Bokeh) {\n",
       "      Bokeh.set_log_level(\"info\");\n",
       "    },\n",
       "    \n",
       "    function(Bokeh) {\n",
       "      Bokeh.$(\"#f2af469e-6bff-4b96-a93b-01d1560783da\").text(\"BokehJS successfully loaded\");\n",
       "    },\n",
       "    function(Bokeh) {\n",
       "      console.log(\"Bokeh: injecting CSS: https://cdn.pydata.org/bokeh/release/bokeh-0.11.1.min.css\");\n",
       "      Bokeh.embed.inject_css(\"https://cdn.pydata.org/bokeh/release/bokeh-0.11.1.min.css\");\n",
       "      console.log(\"Bokeh: injecting CSS: https://cdn.pydata.org/bokeh/release/bokeh-widgets-0.11.1.min.css\");\n",
       "      Bokeh.embed.inject_css(\"https://cdn.pydata.org/bokeh/release/bokeh-widgets-0.11.1.min.css\");\n",
       "    }\n",
       "  ];\n",
       "\n",
       "  function run_inline_js() {\n",
       "    for (var i = 0; i < inline_js.length; i++) {\n",
       "      inline_js[i](window.Bokeh);\n",
       "    }\n",
       "  }\n",
       "\n",
       "  if (window._bokeh_is_loading === 0) {\n",
       "    console.log(\"Bokeh: BokehJS loaded, going straight to plotting\");\n",
       "    run_inline_js();\n",
       "  } else {\n",
       "    load_libs(js_urls, function() {\n",
       "      console.log(\"Bokeh: BokehJS plotting callback run at\", now());\n",
       "      run_inline_js();\n",
       "    });\n",
       "  }\n",
       "}(this));"
      ]
     },
     "metadata": {},
     "output_type": "display_data"
    }
   ],
   "source": [
    "## We send the output to this notebook\n",
    "output_notebook()"
   ]
  },
  {
   "cell_type": "code",
   "execution_count": 24,
   "metadata": {
    "collapsed": false
   },
   "outputs": [
    {
     "data": {
      "text/html": [
       "\n",
       "\n",
       "    <div class=\"plotdiv\" id=\"26e34704-47d8-4d90-97e7-f5a7da480f60\"></div>\n",
       "<script type=\"text/javascript\">\n",
       "  \n",
       "  (function(global) {\n",
       "    function now() {\n",
       "      return new Date();\n",
       "    }\n",
       "  \n",
       "    if (typeof (window._bokeh_onload_callbacks) === \"undefined\") {\n",
       "      window._bokeh_onload_callbacks = [];\n",
       "    }\n",
       "  \n",
       "    function run_callbacks() {\n",
       "      window._bokeh_onload_callbacks.forEach(function(callback) { callback() });\n",
       "      delete window._bokeh_onload_callbacks\n",
       "      console.info(\"Bokeh: all callbacks have finished\");\n",
       "    }\n",
       "  \n",
       "    function load_libs(js_urls, callback) {\n",
       "      window._bokeh_onload_callbacks.push(callback);\n",
       "      if (window._bokeh_is_loading > 0) {\n",
       "        console.log(\"Bokeh: BokehJS is being loaded, scheduling callback at\", now());\n",
       "        return null;\n",
       "      }\n",
       "      if (js_urls == null || js_urls.length === 0) {\n",
       "        run_callbacks();\n",
       "        return null;\n",
       "      }\n",
       "      console.log(\"Bokeh: BokehJS not loaded, scheduling load and callback at\", now());\n",
       "      window._bokeh_is_loading = js_urls.length;\n",
       "      for (var i = 0; i < js_urls.length; i++) {\n",
       "        var url = js_urls[i];\n",
       "        var s = document.createElement('script');\n",
       "        s.src = url;\n",
       "        s.async = false;\n",
       "        s.onreadystatechange = s.onload = function() {\n",
       "          window._bokeh_is_loading--;\n",
       "          if (window._bokeh_is_loading === 0) {\n",
       "            console.log(\"Bokeh: all BokehJS libraries loaded\");\n",
       "            run_callbacks()\n",
       "          }\n",
       "        };\n",
       "        s.onerror = function() {\n",
       "          console.warn(\"failed to load library \" + url);\n",
       "        };\n",
       "        console.log(\"Bokeh: injecting script tag for BokehJS library: \", url);\n",
       "        document.getElementsByTagName(\"head\")[0].appendChild(s);\n",
       "      }\n",
       "    };var element = document.getElementById(\"26e34704-47d8-4d90-97e7-f5a7da480f60\");\n",
       "    if (element == null) {\n",
       "      console.log(\"Bokeh: ERROR: autoload.js configured with elementid '26e34704-47d8-4d90-97e7-f5a7da480f60' but no matching script tag was found. \")\n",
       "      return false;\n",
       "    }\n",
       "  \n",
       "    var js_urls = [];\n",
       "  \n",
       "    var inline_js = [\n",
       "      function(Bokeh) {\n",
       "        Bokeh.$(function() {\n",
       "            var docs_json = {\"9507e41f-1f79-4285-9ac3-316d114ca6a2\":{\"roots\":{\"references\":[{\"attributes\":{},\"id\":\"863a13ae-c61b-45df-a0e1-556c82c932ed\",\"type\":\"BasicTicker\"},{\"attributes\":{},\"id\":\"bb4a1661-1738-4ef3-8405-aaf46cd2fe73\",\"type\":\"BasicTicker\"},{\"attributes\":{},\"id\":\"a2d697bb-06a1-43f6-8cc3-c73721961da7\",\"type\":\"CategoricalTicker\"},{\"attributes\":{\"callback\":null,\"column_names\":[\"x_values\",\"y_values\"],\"data\":{\"chart_index\":[null,null,null,null,null,null,null,null],\"x_values\":[5,10,15,20,25,30,35,40],\"y_values\":[28.0,29.0,31.0,32.0,32.0,\"NaN\",34.0,35.0]}},\"id\":\"0303c713-5099-430c-a14b-da7e3f373715\",\"type\":\"ColumnDataSource\"},{\"attributes\":{\"below\":[{\"id\":\"80554056-54d7-414f-a266-aa882c8b8005\",\"type\":\"LinearAxis\"}],\"left\":[{\"id\":\"6562573f-04b5-4333-8434-ace4c8f11438\",\"type\":\"LinearAxis\"}],\"legend\":null,\"renderers\":[{\"id\":\"f0f8bf9a-fdac-46f2-80de-9eb5365005af\",\"type\":\"BoxAnnotation\"},{\"id\":\"3a6b7481-b1bb-44d3-b8a4-a246e2382d18\",\"type\":\"GlyphRenderer\"},{\"id\":\"80554056-54d7-414f-a266-aa882c8b8005\",\"type\":\"LinearAxis\"},{\"id\":\"6562573f-04b5-4333-8434-ace4c8f11438\",\"type\":\"LinearAxis\"},{\"id\":\"7ccfdae6-0776-49b0-8331-17a107023758\",\"type\":\"Grid\"},{\"id\":\"bd95d268-7102-4676-8860-ec8c114f4caf\",\"type\":\"Grid\"}],\"title_text_font_size\":{\"value\":\"14pt\"},\"tool_events\":{\"id\":\"acc96040-03f0-49d6-bad8-92bb1df2b85d\",\"type\":\"ToolEvents\"},\"tools\":[{\"id\":\"7b69ac99-3868-45e0-9f3a-1d37c0853d06\",\"type\":\"PanTool\"},{\"id\":\"9e988bc0-1847-4027-98ff-e5c6f3a013e4\",\"type\":\"WheelZoomTool\"},{\"id\":\"a12e1ee9-ab71-47d5-8c93-3c9df77d1727\",\"type\":\"BoxZoomTool\"},{\"id\":\"2834670c-16f4-4ca3-8669-d1f0e34c044d\",\"type\":\"PreviewSaveTool\"},{\"id\":\"4f2a25b6-ee20-45dd-90bf-bf922ed5e700\",\"type\":\"ResizeTool\"},{\"id\":\"10a1dbb7-7a01-400a-8b85-8c02c07e86d2\",\"type\":\"ResetTool\"},{\"id\":\"d1e2b1a5-3c1d-4d55-a2c6-179055485562\",\"type\":\"HelpTool\"}],\"x_mapper_type\":\"auto\",\"x_range\":{\"id\":\"0ec3c502-6243-4abb-ac57-afaa17e316d2\",\"type\":\"Range1d\"},\"xscale\":\"auto\",\"y_mapper_type\":\"auto\",\"y_range\":{\"id\":\"26991b25-f3e3-4f28-ac13-9f222e8e8d28\",\"type\":\"Range1d\"},\"yscale\":\"auto\"},\"id\":\"29604627-3ad6-4360-af13-3d865d13f00b\",\"subtype\":\"Chart\",\"type\":\"Plot\"},{\"attributes\":{\"callback\":null,\"end\":43.5,\"start\":1.5},\"id\":\"59d2473a-27c6-4bd7-b897-460ac1a2ef8b\",\"type\":\"Range1d\"},{\"attributes\":{\"fill_alpha\":{\"value\":0.7},\"fill_color\":{\"value\":\"#f22c40\"},\"line_color\":{\"value\":\"#f22c40\"},\"size\":{\"units\":\"screen\",\"value\":8},\"x\":{\"field\":\"x_values\"},\"y\":{\"field\":\"y_values\"}},\"id\":\"f4c53504-1bae-428c-9c92-cd497ae680c3\",\"type\":\"Circle\"},{\"attributes\":{\"data_source\":{\"id\":\"9448da28-5500-4eef-8896-d1f88849f529\",\"type\":\"ColumnDataSource\"},\"glyph\":{\"id\":\"58d0bde6-b232-4c6d-b9eb-c51de3b60339\",\"type\":\"Rect\"},\"hover_glyph\":null,\"nonselection_glyph\":null,\"selection_glyph\":null},\"id\":\"506704d3-f9c1-4325-bfdd-6fbb79ff1457\",\"type\":\"GlyphRenderer\"},{\"attributes\":{\"callback\":null,\"column_names\":[\"line_alpha\",\"x\",\"color\",\"height\",\"fill_alpha\",\"y\",\"line_color\",\"width\"],\"data\":{\"chart_index\":[{\"index\":5}],\"color\":[\"#f22c40\"],\"fill_alpha\":[0.8],\"height\":[30.0],\"index\":[5],\"line_alpha\":[1.0],\"line_color\":[\"white\"],\"width\":[0.8],\"x\":[\"5\"],\"y\":[15.0]}},\"id\":\"579eca3e-7072-4a4e-ab11-c98d86dabc40\",\"type\":\"ColumnDataSource\"},{\"attributes\":{\"callback\":null,\"column_names\":[\"line_alpha\",\"x\",\"color\",\"height\",\"fill_alpha\",\"y\",\"line_color\",\"width\"],\"data\":{\"chart_index\":[{\"index\":1}],\"color\":[\"#f22c40\"],\"fill_alpha\":[0.8],\"height\":[10.0],\"index\":[1],\"line_alpha\":[1.0],\"line_color\":[\"white\"],\"width\":[0.8],\"x\":[\"1\"],\"y\":[5.0]}},\"id\":\"9735e5c7-94a5-4e24-a0bf-3ad4ad801a6e\",\"type\":\"ColumnDataSource\"},{\"attributes\":{\"plot\":{\"id\":\"29604627-3ad6-4360-af13-3d865d13f00b\",\"subtype\":\"Chart\",\"type\":\"Plot\"}},\"id\":\"4f2a25b6-ee20-45dd-90bf-bf922ed5e700\",\"type\":\"ResizeTool\"},{\"attributes\":{\"plot\":{\"id\":\"29604627-3ad6-4360-af13-3d865d13f00b\",\"subtype\":\"Chart\",\"type\":\"Plot\"}},\"id\":\"10a1dbb7-7a01-400a-8b85-8c02c07e86d2\",\"type\":\"ResetTool\"},{\"attributes\":{\"fill_alpha\":{\"field\":\"fill_alpha\"},\"fill_color\":{\"field\":\"color\"},\"height\":{\"field\":\"height\",\"units\":\"data\"},\"line_color\":{\"field\":\"line_color\"},\"width\":{\"field\":\"width\",\"units\":\"data\"},\"x\":{\"field\":\"x\"},\"y\":{\"field\":\"y\"}},\"id\":\"58d0bde6-b232-4c6d-b9eb-c51de3b60339\",\"type\":\"Rect\"},{\"attributes\":{\"plot\":{\"id\":\"29604627-3ad6-4360-af13-3d865d13f00b\",\"subtype\":\"Chart\",\"type\":\"Plot\"}},\"id\":\"7b69ac99-3868-45e0-9f3a-1d37c0853d06\",\"type\":\"PanTool\"},{\"attributes\":{\"overlay\":{\"id\":\"f0f8bf9a-fdac-46f2-80de-9eb5365005af\",\"type\":\"BoxAnnotation\"},\"plot\":{\"id\":\"29604627-3ad6-4360-af13-3d865d13f00b\",\"subtype\":\"Chart\",\"type\":\"Plot\"}},\"id\":\"a12e1ee9-ab71-47d5-8c93-3c9df77d1727\",\"type\":\"BoxZoomTool\"},{\"attributes\":{\"callback\":null,\"end\":43.5,\"start\":1.5},\"id\":\"0ec3c502-6243-4abb-ac57-afaa17e316d2\",\"type\":\"Range1d\"},{\"attributes\":{\"fill_alpha\":{\"field\":\"fill_alpha\"},\"fill_color\":{\"field\":\"color\"},\"height\":{\"field\":\"height\",\"units\":\"data\"},\"line_color\":{\"field\":\"line_color\"},\"width\":{\"field\":\"width\",\"units\":\"data\"},\"x\":{\"field\":\"x\"},\"y\":{\"field\":\"y\"}},\"id\":\"9389fc42-d03b-4f5a-82f5-fe6bcdf8d88a\",\"type\":\"Rect\"},{\"attributes\":{\"callback\":null,\"column_names\":[\"line_alpha\",\"x\",\"color\",\"height\",\"fill_alpha\",\"y\",\"line_color\",\"width\"],\"data\":{\"chart_index\":[{\"index\":4}],\"color\":[\"#f22c40\"],\"fill_alpha\":[0.8],\"height\":[25.0],\"index\":[4],\"line_alpha\":[1.0],\"line_color\":[\"white\"],\"width\":[0.8],\"x\":[\"4\"],\"y\":[12.5]}},\"id\":\"6600138e-d676-4306-909e-ddb9f563615b\",\"type\":\"ColumnDataSource\"},{\"attributes\":{\"callback\":null,\"end\":42.0},\"id\":\"06ea3921-f28b-4746-b94c-a488e2052988\",\"type\":\"Range1d\"},{\"attributes\":{\"axis_label\":\"Sum( Secs )\",\"formatter\":{\"id\":\"d31e0e0a-85db-4714-a08d-705bc829d71c\",\"type\":\"BasicTickFormatter\"},\"plot\":{\"id\":\"97e652cf-19d3-4ad7-a68f-1f498548d42e\",\"subtype\":\"Chart\",\"type\":\"Plot\"},\"ticker\":{\"id\":\"bb4a1661-1738-4ef3-8405-aaf46cd2fe73\",\"type\":\"BasicTicker\"}},\"id\":\"dc0f593b-9b96-4ae3-9ae5-c72c7b169374\",\"type\":\"LinearAxis\"},{\"attributes\":{\"plot\":{\"id\":\"29604627-3ad6-4360-af13-3d865d13f00b\",\"subtype\":\"Chart\",\"type\":\"Plot\"}},\"id\":\"d1e2b1a5-3c1d-4d55-a2c6-179055485562\",\"type\":\"HelpTool\"},{\"attributes\":{\"callback\":null,\"column_names\":[\"line_alpha\",\"x\",\"color\",\"height\",\"fill_alpha\",\"y\",\"line_color\",\"width\"],\"data\":{\"chart_index\":[{\"index\":7}],\"color\":[\"#f22c40\"],\"fill_alpha\":[0.8],\"height\":[40.0],\"index\":[7],\"line_alpha\":[1.0],\"line_color\":[\"white\"],\"width\":[0.8],\"x\":[\"7\"],\"y\":[20.0]}},\"id\":\"804977ac-4f4f-4a38-bb48-3f4df599b888\",\"type\":\"ColumnDataSource\"},{\"attributes\":{},\"id\":\"635ff14d-358c-4424-bea1-fc599e7d003f\",\"type\":\"BasicTicker\"},{\"attributes\":{\"bottom_units\":\"screen\",\"fill_alpha\":{\"value\":0.5},\"fill_color\":{\"value\":\"lightgrey\"},\"left_units\":\"screen\",\"level\":\"overlay\",\"line_alpha\":{\"value\":1.0},\"line_color\":{\"value\":\"black\"},\"line_dash\":[4,4],\"line_width\":{\"value\":2},\"plot\":null,\"render_mode\":\"css\",\"right_units\":\"screen\",\"top_units\":\"screen\"},\"id\":\"308f8154-f5f2-4b14-beec-0c1fbe326be8\",\"type\":\"BoxAnnotation\"},{\"attributes\":{\"plot\":{\"id\":\"f13a5edc-b90c-4dbb-ad84-ed725321b2ad\",\"subtype\":\"Chart\",\"type\":\"Plot\"}},\"id\":\"10d93b96-60ee-4e13-8f1f-1af40dbee561\",\"type\":\"ResetTool\"},{\"attributes\":{\"plot\":{\"id\":\"97e652cf-19d3-4ad7-a68f-1f498548d42e\",\"subtype\":\"Chart\",\"type\":\"Plot\"}},\"id\":\"52cd1ffb-5a59-4967-a2c2-f19e1259a946\",\"type\":\"HelpTool\"},{\"attributes\":{\"below\":[{\"id\":\"968da068-a807-4eb3-a62e-663ebfd3ba4c\",\"type\":\"CategoricalAxis\"}],\"left\":[{\"id\":\"dc0f593b-9b96-4ae3-9ae5-c72c7b169374\",\"type\":\"LinearAxis\"}],\"legend\":null,\"renderers\":[{\"id\":\"308f8154-f5f2-4b14-beec-0c1fbe326be8\",\"type\":\"BoxAnnotation\"},{\"id\":\"506704d3-f9c1-4325-bfdd-6fbb79ff1457\",\"type\":\"GlyphRenderer\"},{\"id\":\"437796a8-8d4f-406c-87b7-479fefe33f1f\",\"type\":\"GlyphRenderer\"},{\"id\":\"b55c59e4-c584-432e-81a7-526514e57b24\",\"type\":\"GlyphRenderer\"},{\"id\":\"80fbe2bf-7c97-455e-acbc-5d3306ea4c3d\",\"type\":\"GlyphRenderer\"},{\"id\":\"914fbf7e-8b8a-4146-98c4-a95d1733e6d0\",\"type\":\"GlyphRenderer\"},{\"id\":\"ec0de87e-d3a6-4066-856c-80c803b2a1fb\",\"type\":\"GlyphRenderer\"},{\"id\":\"57598fd1-6653-426d-b93f-cbc48791295b\",\"type\":\"GlyphRenderer\"},{\"id\":\"7b776d4b-2d8b-4c79-b194-e1cba934f624\",\"type\":\"GlyphRenderer\"},{\"id\":\"968da068-a807-4eb3-a62e-663ebfd3ba4c\",\"type\":\"CategoricalAxis\"},{\"id\":\"dc0f593b-9b96-4ae3-9ae5-c72c7b169374\",\"type\":\"LinearAxis\"},{\"id\":\"74a80b44-1aa7-4a37-9b67-925a4588ef27\",\"type\":\"Grid\"}],\"title_text_font_size\":{\"value\":\"14pt\"},\"tool_events\":{\"id\":\"af67b7f9-9256-4261-a410-df446ddc8c1c\",\"type\":\"ToolEvents\"},\"tools\":[{\"id\":\"599474ec-8d4e-4648-afa1-83be776be762\",\"type\":\"PanTool\"},{\"id\":\"729fa15a-a390-40da-9035-d00d5e9591c6\",\"type\":\"WheelZoomTool\"},{\"id\":\"0f8cc0f0-a47b-4333-ba7c-8f9c0fab398f\",\"type\":\"BoxZoomTool\"},{\"id\":\"862822d5-5e9c-41b1-9f95-e552c00fcbd9\",\"type\":\"PreviewSaveTool\"},{\"id\":\"eedad0fd-131f-4d34-9b77-08d9e967c9b7\",\"type\":\"ResizeTool\"},{\"id\":\"f364e49c-1d3b-4d21-8393-858de7bc29ff\",\"type\":\"ResetTool\"},{\"id\":\"52cd1ffb-5a59-4967-a2c2-f19e1259a946\",\"type\":\"HelpTool\"}],\"x_mapper_type\":\"auto\",\"x_range\":{\"id\":\"34804da6-8d49-465a-a1ee-ee5e2f037e1a\",\"type\":\"FactorRange\"},\"xgrid\":false,\"xscale\":\"auto\",\"y_mapper_type\":\"auto\",\"y_range\":{\"id\":\"06ea3921-f28b-4746-b94c-a488e2052988\",\"type\":\"Range1d\"},\"yscale\":\"auto\"},\"id\":\"97e652cf-19d3-4ad7-a68f-1f498548d42e\",\"subtype\":\"Chart\",\"type\":\"Plot\"},{\"attributes\":{\"axis_label\":\"secs\",\"formatter\":{\"id\":\"eba947f6-a35b-4970-80b7-c34434ff4968\",\"type\":\"BasicTickFormatter\"},\"plot\":{\"id\":\"29604627-3ad6-4360-af13-3d865d13f00b\",\"subtype\":\"Chart\",\"type\":\"Plot\"},\"ticker\":{\"id\":\"1c9737fb-8843-48f6-8d84-138bc91364ec\",\"type\":\"BasicTicker\"}},\"id\":\"80554056-54d7-414f-a266-aa882c8b8005\",\"type\":\"LinearAxis\"},{\"attributes\":{\"plot\":{\"id\":\"f13a5edc-b90c-4dbb-ad84-ed725321b2ad\",\"subtype\":\"Chart\",\"type\":\"Plot\"}},\"id\":\"b8f17fa9-0202-49f9-9f15-e2116c3fd7df\",\"type\":\"PreviewSaveTool\"},{\"attributes\":{\"fill_alpha\":{\"value\":0.7},\"fill_color\":{\"value\":\"#f22c40\"},\"line_color\":{\"value\":\"#f22c40\"},\"size\":{\"units\":\"screen\",\"value\":8},\"x\":{\"field\":\"x_values\"},\"y\":{\"field\":\"y_values\"}},\"id\":\"ebdb85c1-e44d-4d68-b1c1-4a39c6fec478\",\"type\":\"Circle\"},{\"attributes\":{\"data_source\":{\"id\":\"06a38820-b57c-49f1-af92-316991a49339\",\"type\":\"ColumnDataSource\"},\"glyph\":{\"id\":\"ebdb85c1-e44d-4d68-b1c1-4a39c6fec478\",\"type\":\"Circle\"},\"hover_glyph\":null,\"nonselection_glyph\":null,\"selection_glyph\":null},\"id\":\"b5675713-3aee-4f80-84d6-045e925d1308\",\"type\":\"GlyphRenderer\"},{\"attributes\":{\"dimension\":1,\"plot\":{\"id\":\"f13a5edc-b90c-4dbb-ad84-ed725321b2ad\",\"subtype\":\"Chart\",\"type\":\"Plot\"},\"ticker\":{\"id\":\"863a13ae-c61b-45df-a0e1-556c82c932ed\",\"type\":\"BasicTicker\"}},\"id\":\"834008d7-47fb-49c7-9c9d-859e8bebd93a\",\"type\":\"Grid\"},{\"attributes\":{\"data_source\":{\"id\":\"804977ac-4f4f-4a38-bb48-3f4df599b888\",\"type\":\"ColumnDataSource\"},\"glyph\":{\"id\":\"bb6f3719-1958-4e45-ba43-479ba29a89fc\",\"type\":\"Rect\"},\"hover_glyph\":null,\"nonselection_glyph\":null,\"selection_glyph\":null},\"id\":\"7b776d4b-2d8b-4c79-b194-e1cba934f624\",\"type\":\"GlyphRenderer\"},{\"attributes\":{},\"id\":\"4ed5f9c4-ad28-48a0-85f2-c45429353ff9\",\"type\":\"BasicTicker\"},{\"attributes\":{\"overlay\":{\"id\":\"9d85ea85-7a4c-4271-8c9a-99572c7af4ab\",\"type\":\"BoxAnnotation\"},\"plot\":{\"id\":\"f13a5edc-b90c-4dbb-ad84-ed725321b2ad\",\"subtype\":\"Chart\",\"type\":\"Plot\"}},\"id\":\"b25eb0f7-5376-4f09-bc31-8b587ceded2f\",\"type\":\"BoxZoomTool\"},{\"attributes\":{\"plot\":{\"id\":\"97e652cf-19d3-4ad7-a68f-1f498548d42e\",\"subtype\":\"Chart\",\"type\":\"Plot\"}},\"id\":\"eedad0fd-131f-4d34-9b77-08d9e967c9b7\",\"type\":\"ResizeTool\"},{\"attributes\":{\"plot\":{\"id\":\"f13a5edc-b90c-4dbb-ad84-ed725321b2ad\",\"subtype\":\"Chart\",\"type\":\"Plot\"}},\"id\":\"a92c68ff-6612-49e6-9c5d-c531e096d656\",\"type\":\"PanTool\"},{\"attributes\":{\"fill_alpha\":{\"field\":\"fill_alpha\"},\"fill_color\":{\"field\":\"color\"},\"height\":{\"field\":\"height\",\"units\":\"data\"},\"line_color\":{\"field\":\"line_color\"},\"width\":{\"field\":\"width\",\"units\":\"data\"},\"x\":{\"field\":\"x\"},\"y\":{\"field\":\"y\"}},\"id\":\"e196d24e-8c4d-45de-9844-fca35fe79a46\",\"type\":\"Rect\"},{\"attributes\":{\"fill_alpha\":{\"field\":\"fill_alpha\"},\"fill_color\":{\"field\":\"color\"},\"height\":{\"field\":\"height\",\"units\":\"data\"},\"line_color\":{\"field\":\"line_color\"},\"width\":{\"field\":\"width\",\"units\":\"data\"},\"x\":{\"field\":\"x\"},\"y\":{\"field\":\"y\"}},\"id\":\"bb6f3719-1958-4e45-ba43-479ba29a89fc\",\"type\":\"Rect\"},{\"attributes\":{},\"id\":\"84daba45-339a-4a1a-abdc-b58c0220ece7\",\"type\":\"BasicTickFormatter\"},{\"attributes\":{},\"id\":\"eba947f6-a35b-4970-80b7-c34434ff4968\",\"type\":\"BasicTickFormatter\"},{\"attributes\":{\"dimension\":1,\"plot\":{\"id\":\"29604627-3ad6-4360-af13-3d865d13f00b\",\"subtype\":\"Chart\",\"type\":\"Plot\"},\"ticker\":{\"id\":\"4ed5f9c4-ad28-48a0-85f2-c45429353ff9\",\"type\":\"BasicTicker\"}},\"id\":\"bd95d268-7102-4676-8860-ec8c114f4caf\",\"type\":\"Grid\"},{\"attributes\":{},\"id\":\"f0d759c3-53c4-49d4-abb7-bc1f2f58cbc0\",\"type\":\"BasicTickFormatter\"},{\"attributes\":{\"callback\":null,\"end\":35.7,\"start\":27.3},\"id\":\"a0810025-06ec-4083-a1f4-8e6e499cd2e9\",\"type\":\"Range1d\"},{\"attributes\":{\"plot\":{\"id\":\"f13a5edc-b90c-4dbb-ad84-ed725321b2ad\",\"subtype\":\"Chart\",\"type\":\"Plot\"}},\"id\":\"2a06b1d0-7745-493e-9a1c-acc7f423e066\",\"type\":\"HelpTool\"},{\"attributes\":{\"plot\":{\"id\":\"29604627-3ad6-4360-af13-3d865d13f00b\",\"subtype\":\"Chart\",\"type\":\"Plot\"}},\"id\":\"2834670c-16f4-4ca3-8669-d1f0e34c044d\",\"type\":\"PreviewSaveTool\"},{\"attributes\":{\"fill_alpha\":{\"field\":\"fill_alpha\"},\"fill_color\":{\"field\":\"color\"},\"height\":{\"field\":\"height\",\"units\":\"data\"},\"line_color\":{\"field\":\"line_color\"},\"width\":{\"field\":\"width\",\"units\":\"data\"},\"x\":{\"field\":\"x\"},\"y\":{\"field\":\"y\"}},\"id\":\"7a640cec-30cf-42cc-8e10-2e87eb212ee2\",\"type\":\"Rect\"},{\"attributes\":{\"plot\":{\"id\":\"97e652cf-19d3-4ad7-a68f-1f498548d42e\",\"subtype\":\"Chart\",\"type\":\"Plot\"}},\"id\":\"729fa15a-a390-40da-9035-d00d5e9591c6\",\"type\":\"WheelZoomTool\"},{\"attributes\":{\"formatter\":{\"id\":\"c7117b59-4ec6-4ade-bf17-b1978c780446\",\"type\":\"CategoricalTickFormatter\"},\"major_label_orientation\":0.7853981633974483,\"plot\":{\"id\":\"97e652cf-19d3-4ad7-a68f-1f498548d42e\",\"subtype\":\"Chart\",\"type\":\"Plot\"},\"ticker\":{\"id\":\"a2d697bb-06a1-43f6-8cc3-c73721961da7\",\"type\":\"CategoricalTicker\"}},\"id\":\"968da068-a807-4eb3-a62e-663ebfd3ba4c\",\"type\":\"CategoricalAxis\"},{\"attributes\":{\"plot\":{\"id\":\"97e652cf-19d3-4ad7-a68f-1f498548d42e\",\"subtype\":\"Chart\",\"type\":\"Plot\"}},\"id\":\"599474ec-8d4e-4648-afa1-83be776be762\",\"type\":\"PanTool\"},{\"attributes\":{\"fill_alpha\":{\"field\":\"fill_alpha\"},\"fill_color\":{\"field\":\"color\"},\"height\":{\"field\":\"height\",\"units\":\"data\"},\"line_color\":{\"field\":\"line_color\"},\"width\":{\"field\":\"width\",\"units\":\"data\"},\"x\":{\"field\":\"x\"},\"y\":{\"field\":\"y\"}},\"id\":\"d2bb205a-60af-4834-92b0-ca69cfb85867\",\"type\":\"Rect\"},{\"attributes\":{\"callback\":null,\"column_names\":[\"line_alpha\",\"x\",\"color\",\"height\",\"fill_alpha\",\"y\",\"line_color\",\"width\"],\"data\":{\"chart_index\":[{\"index\":0}],\"color\":[\"#f22c40\"],\"fill_alpha\":[0.8],\"height\":[5.0],\"index\":[0],\"line_alpha\":[1.0],\"line_color\":[\"white\"],\"width\":[0.8],\"x\":[\"0\"],\"y\":[2.5]}},\"id\":\"9448da28-5500-4eef-8896-d1f88849f529\",\"type\":\"ColumnDataSource\"},{\"attributes\":{\"plot\":{\"id\":\"29604627-3ad6-4360-af13-3d865d13f00b\",\"subtype\":\"Chart\",\"type\":\"Plot\"}},\"id\":\"9e988bc0-1847-4027-98ff-e5c6f3a013e4\",\"type\":\"WheelZoomTool\"},{\"attributes\":{\"data_source\":{\"id\":\"d0b41df8-89e9-4353-bfc3-fb47b85675fa\",\"type\":\"ColumnDataSource\"},\"glyph\":{\"id\":\"9389fc42-d03b-4f5a-82f5-fe6bcdf8d88a\",\"type\":\"Rect\"},\"hover_glyph\":null,\"nonselection_glyph\":null,\"selection_glyph\":null},\"id\":\"57598fd1-6653-426d-b93f-cbc48791295b\",\"type\":\"GlyphRenderer\"},{\"attributes\":{\"data_source\":{\"id\":\"9735e5c7-94a5-4e24-a0bf-3ad4ad801a6e\",\"type\":\"ColumnDataSource\"},\"glyph\":{\"id\":\"7a640cec-30cf-42cc-8e10-2e87eb212ee2\",\"type\":\"Rect\"},\"hover_glyph\":null,\"nonselection_glyph\":null,\"selection_glyph\":null},\"id\":\"437796a8-8d4f-406c-87b7-479fefe33f1f\",\"type\":\"GlyphRenderer\"},{\"attributes\":{},\"id\":\"26bd3cd0-4e1e-42eb-b90a-c46c45ee7cff\",\"type\":\"BasicTickFormatter\"},{\"attributes\":{\"data_source\":{\"id\":\"579eca3e-7072-4a4e-ab11-c98d86dabc40\",\"type\":\"ColumnDataSource\"},\"glyph\":{\"id\":\"d9b916e7-b71e-4545-870b-c6088c4649f6\",\"type\":\"Rect\"},\"hover_glyph\":null,\"nonselection_glyph\":null,\"selection_glyph\":null},\"id\":\"ec0de87e-d3a6-4066-856c-80c803b2a1fb\",\"type\":\"GlyphRenderer\"},{\"attributes\":{\"data_source\":{\"id\":\"d21d742f-37bd-49bc-ae4c-f219527d6c21\",\"type\":\"ColumnDataSource\"},\"glyph\":{\"id\":\"d2bb205a-60af-4834-92b0-ca69cfb85867\",\"type\":\"Rect\"},\"hover_glyph\":null,\"nonselection_glyph\":null,\"selection_glyph\":null},\"id\":\"b55c59e4-c584-432e-81a7-526514e57b24\",\"type\":\"GlyphRenderer\"},{\"attributes\":{\"axis_label\":\"tempC\",\"formatter\":{\"id\":\"26bd3cd0-4e1e-42eb-b90a-c46c45ee7cff\",\"type\":\"BasicTickFormatter\"},\"plot\":{\"id\":\"29604627-3ad6-4360-af13-3d865d13f00b\",\"subtype\":\"Chart\",\"type\":\"Plot\"},\"ticker\":{\"id\":\"4ed5f9c4-ad28-48a0-85f2-c45429353ff9\",\"type\":\"BasicTicker\"}},\"id\":\"6562573f-04b5-4333-8434-ace4c8f11438\",\"type\":\"LinearAxis\"},{\"attributes\":{\"callback\":null,\"factors\":[\"0\",\"1\",\"2\",\"3\",\"4\",\"5\",\"6\",\"7\"]},\"id\":\"34804da6-8d49-465a-a1ee-ee5e2f037e1a\",\"type\":\"FactorRange\"},{\"attributes\":{\"data_source\":{\"id\":\"0303c713-5099-430c-a14b-da7e3f373715\",\"type\":\"ColumnDataSource\"},\"glyph\":{\"id\":\"f4c53504-1bae-428c-9c92-cd497ae680c3\",\"type\":\"Circle\"},\"hover_glyph\":null,\"nonselection_glyph\":null,\"selection_glyph\":null},\"id\":\"3a6b7481-b1bb-44d3-b8a4-a246e2382d18\",\"type\":\"GlyphRenderer\"},{\"attributes\":{},\"id\":\"c7117b59-4ec6-4ade-bf17-b1978c780446\",\"type\":\"CategoricalTickFormatter\"},{\"attributes\":{\"bottom_units\":\"screen\",\"fill_alpha\":{\"value\":0.5},\"fill_color\":{\"value\":\"lightgrey\"},\"left_units\":\"screen\",\"level\":\"overlay\",\"line_alpha\":{\"value\":1.0},\"line_color\":{\"value\":\"black\"},\"line_dash\":[4,4],\"line_width\":{\"value\":2},\"plot\":null,\"render_mode\":\"css\",\"right_units\":\"screen\",\"top_units\":\"screen\"},\"id\":\"9d85ea85-7a4c-4271-8c9a-99572c7af4ab\",\"type\":\"BoxAnnotation\"},{\"attributes\":{\"fill_alpha\":{\"field\":\"fill_alpha\"},\"fill_color\":{\"field\":\"color\"},\"height\":{\"field\":\"height\",\"units\":\"data\"},\"line_color\":{\"field\":\"line_color\"},\"width\":{\"field\":\"width\",\"units\":\"data\"},\"x\":{\"field\":\"x\"},\"y\":{\"field\":\"y\"}},\"id\":\"d9b916e7-b71e-4545-870b-c6088c4649f6\",\"type\":\"Rect\"},{\"attributes\":{\"bottom_units\":\"screen\",\"fill_alpha\":{\"value\":0.5},\"fill_color\":{\"value\":\"lightgrey\"},\"left_units\":\"screen\",\"level\":\"overlay\",\"line_alpha\":{\"value\":1.0},\"line_color\":{\"value\":\"black\"},\"line_dash\":[4,4],\"line_width\":{\"value\":2},\"plot\":null,\"render_mode\":\"css\",\"right_units\":\"screen\",\"top_units\":\"screen\"},\"id\":\"f0f8bf9a-fdac-46f2-80de-9eb5365005af\",\"type\":\"BoxAnnotation\"},{\"attributes\":{\"plot\":{\"id\":\"97e652cf-19d3-4ad7-a68f-1f498548d42e\",\"subtype\":\"Chart\",\"type\":\"Plot\"}},\"id\":\"862822d5-5e9c-41b1-9f95-e552c00fcbd9\",\"type\":\"PreviewSaveTool\"},{\"attributes\":{\"plot\":{\"id\":\"97e652cf-19d3-4ad7-a68f-1f498548d42e\",\"subtype\":\"Chart\",\"type\":\"Plot\"}},\"id\":\"f364e49c-1d3b-4d21-8393-858de7bc29ff\",\"type\":\"ResetTool\"},{\"attributes\":{\"dimension\":1,\"plot\":{\"id\":\"97e652cf-19d3-4ad7-a68f-1f498548d42e\",\"subtype\":\"Chart\",\"type\":\"Plot\"},\"ticker\":{\"id\":\"bb4a1661-1738-4ef3-8405-aaf46cd2fe73\",\"type\":\"BasicTicker\"}},\"id\":\"74a80b44-1aa7-4a37-9b67-925a4588ef27\",\"type\":\"Grid\"},{\"attributes\":{\"axis_label\":\"tempC\",\"formatter\":{\"id\":\"f0d759c3-53c4-49d4-abb7-bc1f2f58cbc0\",\"type\":\"BasicTickFormatter\"},\"plot\":{\"id\":\"f13a5edc-b90c-4dbb-ad84-ed725321b2ad\",\"subtype\":\"Chart\",\"type\":\"Plot\"},\"ticker\":{\"id\":\"863a13ae-c61b-45df-a0e1-556c82c932ed\",\"type\":\"BasicTicker\"}},\"id\":\"e8ab9828-0cd4-4708-a3b1-2e8479c9708e\",\"type\":\"LinearAxis\"},{\"attributes\":{\"callback\":null,\"column_names\":[\"line_alpha\",\"x\",\"color\",\"height\",\"fill_alpha\",\"y\",\"line_color\",\"width\"],\"data\":{\"chart_index\":[{\"index\":6}],\"color\":[\"#f22c40\"],\"fill_alpha\":[0.8],\"height\":[35.0],\"index\":[6],\"line_alpha\":[1.0],\"line_color\":[\"white\"],\"width\":[0.8],\"x\":[\"6\"],\"y\":[17.5]}},\"id\":\"d0b41df8-89e9-4353-bfc3-fb47b85675fa\",\"type\":\"ColumnDataSource\"},{\"attributes\":{},\"id\":\"1c9737fb-8843-48f6-8d84-138bc91364ec\",\"type\":\"BasicTicker\"},{\"attributes\":{\"fill_alpha\":{\"field\":\"fill_alpha\"},\"fill_color\":{\"field\":\"color\"},\"height\":{\"field\":\"height\",\"units\":\"data\"},\"line_color\":{\"field\":\"line_color\"},\"width\":{\"field\":\"width\",\"units\":\"data\"},\"x\":{\"field\":\"x\"},\"y\":{\"field\":\"y\"}},\"id\":\"0bd6b884-fea8-4510-ac11-921d1c9eb27e\",\"type\":\"Rect\"},{\"attributes\":{\"overlay\":{\"id\":\"308f8154-f5f2-4b14-beec-0c1fbe326be8\",\"type\":\"BoxAnnotation\"},\"plot\":{\"id\":\"97e652cf-19d3-4ad7-a68f-1f498548d42e\",\"subtype\":\"Chart\",\"type\":\"Plot\"}},\"id\":\"0f8cc0f0-a47b-4333-ba7c-8f9c0fab398f\",\"type\":\"BoxZoomTool\"},{\"attributes\":{\"callback\":null,\"column_names\":[\"line_alpha\",\"x\",\"color\",\"height\",\"fill_alpha\",\"y\",\"line_color\",\"width\"],\"data\":{\"chart_index\":[{\"index\":3}],\"color\":[\"#f22c40\"],\"fill_alpha\":[0.8],\"height\":[20.0],\"index\":[3],\"line_alpha\":[1.0],\"line_color\":[\"white\"],\"width\":[0.8],\"x\":[\"3\"],\"y\":[10.0]}},\"id\":\"7bb97cfa-d67d-4931-befa-de8daf36a502\",\"type\":\"ColumnDataSource\"},{\"attributes\":{\"below\":[{\"id\":\"98480167-2c12-4ee7-91c7-b58df30adcd9\",\"type\":\"LinearAxis\"}],\"left\":[{\"id\":\"e8ab9828-0cd4-4708-a3b1-2e8479c9708e\",\"type\":\"LinearAxis\"}],\"legend\":null,\"renderers\":[{\"id\":\"9d85ea85-7a4c-4271-8c9a-99572c7af4ab\",\"type\":\"BoxAnnotation\"},{\"id\":\"b5675713-3aee-4f80-84d6-045e925d1308\",\"type\":\"GlyphRenderer\"},{\"id\":\"98480167-2c12-4ee7-91c7-b58df30adcd9\",\"type\":\"LinearAxis\"},{\"id\":\"e8ab9828-0cd4-4708-a3b1-2e8479c9708e\",\"type\":\"LinearAxis\"},{\"id\":\"e4bbacc2-303e-4635-9e74-1d5868963155\",\"type\":\"Grid\"},{\"id\":\"834008d7-47fb-49c7-9c9d-859e8bebd93a\",\"type\":\"Grid\"}],\"title_text_font_size\":{\"value\":\"14pt\"},\"tool_events\":{\"id\":\"f66b2c0e-d28b-4ad4-b8e5-c03d3e6ba259\",\"type\":\"ToolEvents\"},\"tools\":[{\"id\":\"a92c68ff-6612-49e6-9c5d-c531e096d656\",\"type\":\"PanTool\"},{\"id\":\"194ff554-1e5d-4221-8029-76df58e94e4d\",\"type\":\"WheelZoomTool\"},{\"id\":\"b25eb0f7-5376-4f09-bc31-8b587ceded2f\",\"type\":\"BoxZoomTool\"},{\"id\":\"b8f17fa9-0202-49f9-9f15-e2116c3fd7df\",\"type\":\"PreviewSaveTool\"},{\"id\":\"5af5829c-a491-430e-9868-4fb392784733\",\"type\":\"ResizeTool\"},{\"id\":\"10d93b96-60ee-4e13-8f1f-1af40dbee561\",\"type\":\"ResetTool\"},{\"id\":\"2a06b1d0-7745-493e-9a1c-acc7f423e066\",\"type\":\"HelpTool\"}],\"x_mapper_type\":\"auto\",\"x_range\":{\"id\":\"59d2473a-27c6-4bd7-b897-460ac1a2ef8b\",\"type\":\"Range1d\"},\"xscale\":\"auto\",\"y_mapper_type\":\"auto\",\"y_range\":{\"id\":\"a0810025-06ec-4083-a1f4-8e6e499cd2e9\",\"type\":\"Range1d\"},\"yscale\":\"auto\"},\"id\":\"f13a5edc-b90c-4dbb-ad84-ed725321b2ad\",\"subtype\":\"Chart\",\"type\":\"Plot\"},{\"attributes\":{\"data_source\":{\"id\":\"6600138e-d676-4306-909e-ddb9f563615b\",\"type\":\"ColumnDataSource\"},\"glyph\":{\"id\":\"e196d24e-8c4d-45de-9844-fca35fe79a46\",\"type\":\"Rect\"},\"hover_glyph\":null,\"nonselection_glyph\":null,\"selection_glyph\":null},\"id\":\"914fbf7e-8b8a-4146-98c4-a95d1733e6d0\",\"type\":\"GlyphRenderer\"},{\"attributes\":{},\"id\":\"d31e0e0a-85db-4714-a08d-705bc829d71c\",\"type\":\"BasicTickFormatter\"},{\"attributes\":{\"callback\":null,\"column_names\":[\"line_alpha\",\"x\",\"color\",\"height\",\"fill_alpha\",\"y\",\"line_color\",\"width\"],\"data\":{\"chart_index\":[{\"index\":2}],\"color\":[\"#f22c40\"],\"fill_alpha\":[0.8],\"height\":[15.0],\"index\":[2],\"line_alpha\":[1.0],\"line_color\":[\"white\"],\"width\":[0.8],\"x\":[\"2\"],\"y\":[7.5]}},\"id\":\"d21d742f-37bd-49bc-ae4c-f219527d6c21\",\"type\":\"ColumnDataSource\"},{\"attributes\":{\"plot\":{\"id\":\"f13a5edc-b90c-4dbb-ad84-ed725321b2ad\",\"subtype\":\"Chart\",\"type\":\"Plot\"},\"ticker\":{\"id\":\"635ff14d-358c-4424-bea1-fc599e7d003f\",\"type\":\"BasicTicker\"}},\"id\":\"e4bbacc2-303e-4635-9e74-1d5868963155\",\"type\":\"Grid\"},{\"attributes\":{},\"id\":\"acc96040-03f0-49d6-bad8-92bb1df2b85d\",\"type\":\"ToolEvents\"},{\"attributes\":{\"axis_label\":\"secs\",\"formatter\":{\"id\":\"84daba45-339a-4a1a-abdc-b58c0220ece7\",\"type\":\"BasicTickFormatter\"},\"plot\":{\"id\":\"f13a5edc-b90c-4dbb-ad84-ed725321b2ad\",\"subtype\":\"Chart\",\"type\":\"Plot\"},\"ticker\":{\"id\":\"635ff14d-358c-4424-bea1-fc599e7d003f\",\"type\":\"BasicTicker\"}},\"id\":\"98480167-2c12-4ee7-91c7-b58df30adcd9\",\"type\":\"LinearAxis\"},{\"attributes\":{\"callback\":null,\"column_names\":[\"x_values\",\"y_values\"],\"data\":{\"chart_index\":[null,null,null,null,null,null,null,null],\"x_values\":[5,10,15,20,25,30,35,40],\"y_values\":[28.0,29.0,31.0,32.0,32.0,\"NaN\",34.0,35.0]}},\"id\":\"06a38820-b57c-49f1-af92-316991a49339\",\"type\":\"ColumnDataSource\"},{\"attributes\":{\"plot\":{\"id\":\"f13a5edc-b90c-4dbb-ad84-ed725321b2ad\",\"subtype\":\"Chart\",\"type\":\"Plot\"}},\"id\":\"5af5829c-a491-430e-9868-4fb392784733\",\"type\":\"ResizeTool\"},{\"attributes\":{\"data_source\":{\"id\":\"7bb97cfa-d67d-4931-befa-de8daf36a502\",\"type\":\"ColumnDataSource\"},\"glyph\":{\"id\":\"0bd6b884-fea8-4510-ac11-921d1c9eb27e\",\"type\":\"Rect\"},\"hover_glyph\":null,\"nonselection_glyph\":null,\"selection_glyph\":null},\"id\":\"80fbe2bf-7c97-455e-acbc-5d3306ea4c3d\",\"type\":\"GlyphRenderer\"},{\"attributes\":{},\"id\":\"af67b7f9-9256-4261-a410-df446ddc8c1c\",\"type\":\"ToolEvents\"},{\"attributes\":{\"plot\":{\"id\":\"f13a5edc-b90c-4dbb-ad84-ed725321b2ad\",\"subtype\":\"Chart\",\"type\":\"Plot\"}},\"id\":\"194ff554-1e5d-4221-8029-76df58e94e4d\",\"type\":\"WheelZoomTool\"},{\"attributes\":{\"callback\":null,\"end\":35.7,\"start\":27.3},\"id\":\"26991b25-f3e3-4f28-ac13-9f222e8e8d28\",\"type\":\"Range1d\"},{\"attributes\":{},\"id\":\"f66b2c0e-d28b-4ad4-b8e5-c03d3e6ba259\",\"type\":\"ToolEvents\"},{\"attributes\":{\"plot\":{\"id\":\"29604627-3ad6-4360-af13-3d865d13f00b\",\"subtype\":\"Chart\",\"type\":\"Plot\"},\"ticker\":{\"id\":\"1c9737fb-8843-48f6-8d84-138bc91364ec\",\"type\":\"BasicTicker\"}},\"id\":\"7ccfdae6-0776-49b0-8331-17a107023758\",\"type\":\"Grid\"}],\"root_ids\":[\"29604627-3ad6-4360-af13-3d865d13f00b\",\"97e652cf-19d3-4ad7-a68f-1f498548d42e\",\"f13a5edc-b90c-4dbb-ad84-ed725321b2ad\"]},\"title\":\"Bokeh Application\",\"version\":\"0.11.1\"}};\n",
       "            var render_items = [{\"docid\":\"9507e41f-1f79-4285-9ac3-316d114ca6a2\",\"elementid\":\"26e34704-47d8-4d90-97e7-f5a7da480f60\",\"modelid\":\"f13a5edc-b90c-4dbb-ad84-ed725321b2ad\",\"notebook_comms_target\":\"4eef8393-c8f6-4b28-a38a-fda858206275\"}];\n",
       "            \n",
       "            Bokeh.embed.embed_items(docs_json, render_items);\n",
       "        });\n",
       "      },\n",
       "      function(Bokeh) {\n",
       "      }\n",
       "    ];\n",
       "  \n",
       "    function run_inline_js() {\n",
       "      for (var i = 0; i < inline_js.length; i++) {\n",
       "        inline_js[i](window.Bokeh);\n",
       "      }\n",
       "    }\n",
       "  \n",
       "    if (window._bokeh_is_loading === 0) {\n",
       "      console.log(\"Bokeh: BokehJS loaded, going straight to plotting\");\n",
       "      run_inline_js();\n",
       "    } else {\n",
       "      load_libs(js_urls, function() {\n",
       "        console.log(\"Bokeh: BokehJS plotting callback run at\", now());\n",
       "        run_inline_js();\n",
       "      });\n",
       "    }\n",
       "  }(this));\n",
       "</script>"
      ]
     },
     "metadata": {},
     "output_type": "display_data"
    },
    {
     "data": {
      "text/html": [
       "<p><code>&lt;Bokeh Notebook handle for <strong>In[24]</strong>&gt;</code></p>"
      ],
      "text/plain": [
       "<bokeh.io._CommsHandle at 0x151bef025f8>"
      ]
     },
     "execution_count": 24,
     "metadata": {},
     "output_type": "execute_result"
    }
   ],
   "source": [
    "## And we create the plot, note that where there is no value, no point is plotted.\n",
    "show(p)"
   ]
  },
  {
   "cell_type": "code",
   "execution_count": null,
   "metadata": {
    "collapsed": true
   },
   "outputs": [],
   "source": []
  }
 ],
 "metadata": {
  "kernelspec": {
   "display_name": "Python 3",
   "language": "python",
   "name": "python3"
  },
  "language_info": {
   "codemirror_mode": {
    "name": "ipython",
    "version": 3
   },
   "file_extension": ".py",
   "mimetype": "text/x-python",
   "name": "python",
   "nbconvert_exporter": "python",
   "pygments_lexer": "ipython3",
   "version": "3.5.1"
  }
 },
 "nbformat": 4,
 "nbformat_minor": 0
}
